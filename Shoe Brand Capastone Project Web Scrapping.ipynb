{
 "cells": [
  {
   "cell_type": "markdown",
   "id": "f5f1b785",
   "metadata": {},
   "source": [
    "# Shoe Brand Web Scrapping"
   ]
  },
  {
   "cell_type": "code",
   "execution_count": 1,
   "id": "3c45beae",
   "metadata": {},
   "outputs": [
    {
     "name": "stdout",
     "output_type": "stream",
     "text": [
      "Requirement already satisfied: webdriver-manager in c:\\users\\cape-mumbai\\anaconda3\\lib\\site-packages (3.8.6)\n",
      "Requirement already satisfied: requests in c:\\users\\cape-mumbai\\anaconda3\\lib\\site-packages (from webdriver-manager) (2.29.0)\n",
      "Requirement already satisfied: python-dotenv in c:\\users\\cape-mumbai\\anaconda3\\lib\\site-packages (from webdriver-manager) (1.0.0)\n",
      "Requirement already satisfied: tqdm in c:\\users\\cape-mumbai\\anaconda3\\lib\\site-packages (from webdriver-manager) (4.65.0)\n",
      "Requirement already satisfied: packaging in c:\\users\\cape-mumbai\\anaconda3\\lib\\site-packages (from webdriver-manager) (23.0)\n",
      "Requirement already satisfied: charset-normalizer<4,>=2 in c:\\users\\cape-mumbai\\anaconda3\\lib\\site-packages (from requests->webdriver-manager) (2.0.4)\n",
      "Requirement already satisfied: idna<4,>=2.5 in c:\\users\\cape-mumbai\\anaconda3\\lib\\site-packages (from requests->webdriver-manager) (3.4)\n",
      "Requirement already satisfied: urllib3<1.27,>=1.21.1 in c:\\users\\cape-mumbai\\anaconda3\\lib\\site-packages (from requests->webdriver-manager) (1.26.16)\n",
      "Requirement already satisfied: certifi>=2017.4.17 in c:\\users\\cape-mumbai\\anaconda3\\lib\\site-packages (from requests->webdriver-manager) (2023.7.22)\n",
      "Requirement already satisfied: colorama in c:\\users\\cape-mumbai\\anaconda3\\lib\\site-packages (from tqdm->webdriver-manager) (0.4.6)\n"
     ]
    }
   ],
   "source": [
    "!pip install webdriver-manager"
   ]
  },
  {
   "cell_type": "code",
   "execution_count": 2,
   "id": "e2ac40bd",
   "metadata": {},
   "outputs": [
    {
     "name": "stdout",
     "output_type": "stream",
     "text": [
      "Requirement already satisfied: selenium in c:\\users\\cape-mumbai\\anaconda3\\lib\\site-packages (4.10.0)\n",
      "Requirement already satisfied: urllib3[socks]<3,>=1.26 in c:\\users\\cape-mumbai\\anaconda3\\lib\\site-packages (from selenium) (1.26.16)\n",
      "Requirement already satisfied: trio~=0.17 in c:\\users\\cape-mumbai\\anaconda3\\lib\\site-packages (from selenium) (0.22.2)\n",
      "Requirement already satisfied: trio-websocket~=0.9 in c:\\users\\cape-mumbai\\anaconda3\\lib\\site-packages (from selenium) (0.10.3)\n",
      "Requirement already satisfied: certifi>=2021.10.8 in c:\\users\\cape-mumbai\\anaconda3\\lib\\site-packages (from selenium) (2023.7.22)\n",
      "Requirement already satisfied: attrs>=20.1.0 in c:\\users\\cape-mumbai\\anaconda3\\lib\\site-packages (from trio~=0.17->selenium) (22.1.0)\n",
      "Requirement already satisfied: sortedcontainers in c:\\users\\cape-mumbai\\anaconda3\\lib\\site-packages (from trio~=0.17->selenium) (2.4.0)\n",
      "Requirement already satisfied: idna in c:\\users\\cape-mumbai\\anaconda3\\lib\\site-packages (from trio~=0.17->selenium) (3.4)\n",
      "Requirement already satisfied: outcome in c:\\users\\cape-mumbai\\anaconda3\\lib\\site-packages (from trio~=0.17->selenium) (1.2.0)\n",
      "Requirement already satisfied: sniffio in c:\\users\\cape-mumbai\\anaconda3\\lib\\site-packages (from trio~=0.17->selenium) (1.2.0)\n",
      "Requirement already satisfied: cffi>=1.14 in c:\\users\\cape-mumbai\\anaconda3\\lib\\site-packages (from trio~=0.17->selenium) (1.15.1)\n",
      "Requirement already satisfied: exceptiongroup>=1.0.0rc9 in c:\\users\\cape-mumbai\\anaconda3\\lib\\site-packages (from trio~=0.17->selenium) (1.0.4)\n",
      "Requirement already satisfied: wsproto>=0.14 in c:\\users\\cape-mumbai\\anaconda3\\lib\\site-packages (from trio-websocket~=0.9->selenium) (1.2.0)\n",
      "Requirement already satisfied: PySocks!=1.5.7,<2.0,>=1.5.6 in c:\\users\\cape-mumbai\\anaconda3\\lib\\site-packages (from urllib3[socks]<3,>=1.26->selenium) (1.7.1)\n",
      "Requirement already satisfied: pycparser in c:\\users\\cape-mumbai\\anaconda3\\lib\\site-packages (from cffi>=1.14->trio~=0.17->selenium) (2.21)\n",
      "Requirement already satisfied: h11<1,>=0.9.0 in c:\\users\\cape-mumbai\\anaconda3\\lib\\site-packages (from wsproto>=0.14->trio-websocket~=0.9->selenium) (0.14.0)\n"
     ]
    }
   ],
   "source": [
    "!pip install selenium"
   ]
  },
  {
   "cell_type": "code",
   "execution_count": 3,
   "id": "d14f6952",
   "metadata": {},
   "outputs": [],
   "source": [
    "import selenium\n",
    "import pandas as pd\n",
    "from selenium import webdriver\n",
    "import warnings\n",
    "warnings.filterwarnings('ignore')\n",
    "from selenium.webdriver.common.by import By\n",
    "import time\n",
    "from webdriver_manager.chrome import ChromeDriverManager\n",
    "from selenium.webdriver.chrome.service import Service\n",
    "from selenium.common.exceptions import NoSuchElementException, StaleElementReferenceException\n",
    "from selenium.webdriver.support.ui import WebDriverWait\n",
    "from selenium.common.exceptions import WebDriverException"
   ]
  },
  {
   "cell_type": "code",
   "execution_count": 4,
   "id": "beb50b8b",
   "metadata": {},
   "outputs": [],
   "source": [
    "driver = webdriver.Firefox()"
   ]
  },
  {
   "cell_type": "code",
   "execution_count": 5,
   "id": "61bf673a",
   "metadata": {},
   "outputs": [],
   "source": [
    "driver.get(\"https://www.nike.com\")"
   ]
  },
  {
   "cell_type": "code",
   "execution_count": 6,
   "id": "37a0b0b3",
   "metadata": {},
   "outputs": [],
   "source": [
    "shoes=driver.find_element(By.XPATH,'/html/body/div[4]/div/div/div[2]/div[10]/div/div/div/div/div[2]/ul/li[1]/a')\n",
    "shoes.click()"
   ]
  },
  {
   "cell_type": "code",
   "execution_count": 7,
   "id": "77b08e9a",
   "metadata": {},
   "outputs": [],
   "source": [
    "Shoes_Name=[]\n",
    "Category=[]\n",
    "no_of_colors=[]\n",
    "price=[]"
   ]
  },
  {
   "cell_type": "code",
   "execution_count": 10,
   "id": "410ae6af",
   "metadata": {},
   "outputs": [],
   "source": [
    "try:\n",
    "    for i in driver.find_elements(By.XPATH,'//div[@class=\"product-card__titles\"]'):\n",
    "        Shoes_Name.append(i.text)\n",
    "except NoSuchElementException:\n",
    "    Shoes_Name.append('-')\n",
    "    \n",
    "try:\n",
    "    for i in driver.find_elements(By.XPATH,'//div[@class=\"product-card__subtitle\"]'):\n",
    "        Category.append(i.text)\n",
    "except NoSuchElementException:\n",
    "    Category.append('-')\n",
    "    \n",
    "try:\n",
    "    for i in driver.find_elements(By.XPATH,'//div[@class=\"product-card__count-wrapper show--all false\"]'):\n",
    "        no_of_colors.append(i.text)\n",
    "except NoSuchElementException:\n",
    "    no_of_colors.append('-')\n",
    "    \n",
    "try:\n",
    "    for i in driver.find_elements(By.XPATH,'//div[@class=\"product-card__price\"]'):\n",
    "        price.append(i.text)\n",
    "except NoSuchElementException:\n",
    "    price.append('-')"
   ]
  },
  {
   "cell_type": "code",
   "execution_count": 11,
   "id": "edecbf43",
   "metadata": {},
   "outputs": [
    {
     "name": "stdout",
     "output_type": "stream",
     "text": [
      "24 24 24 24\n"
     ]
    }
   ],
   "source": [
    "print(len(Shoes_Name),len(Category),len(no_of_colors),len(price))"
   ]
  },
  {
   "cell_type": "code",
   "execution_count": 12,
   "id": "b78f5011",
   "metadata": {},
   "outputs": [
    {
     "data": {
      "text/html": [
       "<div>\n",
       "<style scoped>\n",
       "    .dataframe tbody tr th:only-of-type {\n",
       "        vertical-align: middle;\n",
       "    }\n",
       "\n",
       "    .dataframe tbody tr th {\n",
       "        vertical-align: top;\n",
       "    }\n",
       "\n",
       "    .dataframe thead th {\n",
       "        text-align: right;\n",
       "    }\n",
       "</style>\n",
       "<table border=\"1\" class=\"dataframe\">\n",
       "  <thead>\n",
       "    <tr style=\"text-align: right;\">\n",
       "      <th></th>\n",
       "      <th>Shoes_Name</th>\n",
       "      <th>Category</th>\n",
       "      <th>no_of_colors</th>\n",
       "      <th>price</th>\n",
       "    </tr>\n",
       "  </thead>\n",
       "  <tbody>\n",
       "    <tr>\n",
       "      <th>0</th>\n",
       "      <td>Nike Air Force 1 '07\\nMen's Shoes</td>\n",
       "      <td>Men's Shoes</td>\n",
       "      <td>2 Colours</td>\n",
       "      <td>MRP : ₹ 7 495.00</td>\n",
       "    </tr>\n",
       "    <tr>\n",
       "      <th>1</th>\n",
       "      <td>Nike Air Force 1 '07 EasyOn\\nWomen's Shoes</td>\n",
       "      <td>Women's Shoes</td>\n",
       "      <td>1 Colour</td>\n",
       "      <td>MRP : ₹ 9 695.00</td>\n",
       "    </tr>\n",
       "    <tr>\n",
       "      <th>2</th>\n",
       "      <td>Nike Gamma Force\\nWomen's Shoes</td>\n",
       "      <td>Women's Shoes</td>\n",
       "      <td>4 Colours</td>\n",
       "      <td>MRP : ₹ 8 495.00</td>\n",
       "    </tr>\n",
       "    <tr>\n",
       "      <th>3</th>\n",
       "      <td>Nike Court Vision Low\\nMen's Shoes</td>\n",
       "      <td>Men's Shoes</td>\n",
       "      <td>1 Colour</td>\n",
       "      <td>MRP : ₹ 5 695.00</td>\n",
       "    </tr>\n",
       "    <tr>\n",
       "      <th>4</th>\n",
       "      <td>Nike Dunk Low Retro Premium\\nMen's Shoes</td>\n",
       "      <td>Men's Shoes</td>\n",
       "      <td>1 Colour</td>\n",
       "      <td>MRP : ₹ 9 695.00</td>\n",
       "    </tr>\n",
       "    <tr>\n",
       "      <th>5</th>\n",
       "      <td>Nike Air Max 90\\nMen's Shoes</td>\n",
       "      <td>Men's Shoes</td>\n",
       "      <td>1 Colour</td>\n",
       "      <td>MRP : ₹ 11 895.00</td>\n",
       "    </tr>\n",
       "    <tr>\n",
       "      <th>6</th>\n",
       "      <td>Nike Air Max 1\\nWomen's shoes</td>\n",
       "      <td>Women's shoes</td>\n",
       "      <td>5 Colours</td>\n",
       "      <td>MRP : ₹ 12 795.00</td>\n",
       "    </tr>\n",
       "    <tr>\n",
       "      <th>7</th>\n",
       "      <td>Nike Dunk Low SE\\nWomen's Shoes</td>\n",
       "      <td>Women's Shoes</td>\n",
       "      <td>1 Colour</td>\n",
       "      <td>MRP : ₹ 9 695.00</td>\n",
       "    </tr>\n",
       "    <tr>\n",
       "      <th>8</th>\n",
       "      <td>Nike Tech Hera\\nWomen's shoes</td>\n",
       "      <td>Women's shoes</td>\n",
       "      <td>5 Colours</td>\n",
       "      <td>MRP : ₹ 9 695.00</td>\n",
       "    </tr>\n",
       "    <tr>\n",
       "      <th>9</th>\n",
       "      <td>Jordan Stadium 90\\nWomen's Shoes</td>\n",
       "      <td>Women's Shoes</td>\n",
       "      <td>3 Colours</td>\n",
       "      <td>MRP : ₹ 12 795.00</td>\n",
       "    </tr>\n",
       "    <tr>\n",
       "      <th>10</th>\n",
       "      <td>Nike Air Force 1 '07 Pro Tech\\nMen's Shoes</td>\n",
       "      <td>Men's Shoes</td>\n",
       "      <td>3 Colours</td>\n",
       "      <td>MRP : ₹ 13 995.00</td>\n",
       "    </tr>\n",
       "    <tr>\n",
       "      <th>11</th>\n",
       "      <td>Nike Calm\\nWomen's Mules</td>\n",
       "      <td>Women's Mules</td>\n",
       "      <td>3 Colours</td>\n",
       "      <td>MRP : ₹ 5 695.00</td>\n",
       "    </tr>\n",
       "    <tr>\n",
       "      <th>12</th>\n",
       "      <td>Nike Air Force 1 '07\\nWomen's Shoe</td>\n",
       "      <td>Women's Shoe</td>\n",
       "      <td>5 Colours</td>\n",
       "      <td>MRP : ₹ 8 195.00</td>\n",
       "    </tr>\n",
       "    <tr>\n",
       "      <th>13</th>\n",
       "      <td>Air Jordan 1 Low SE\\nWomen's Shoes</td>\n",
       "      <td>Women's Shoes</td>\n",
       "      <td>2 Colours</td>\n",
       "      <td>MRP : ₹ 10 295.00</td>\n",
       "    </tr>\n",
       "    <tr>\n",
       "      <th>14</th>\n",
       "      <td>Air Jordan 1 Low\\nWomen's Shoes</td>\n",
       "      <td>Women's Shoes</td>\n",
       "      <td>3 Colours</td>\n",
       "      <td>MRP : ₹ 8 295.00</td>\n",
       "    </tr>\n",
       "    <tr>\n",
       "      <th>15</th>\n",
       "      <td>Air Jordan 1 Low\\nOlder Kids' Shoes</td>\n",
       "      <td>Older Kids' Shoes</td>\n",
       "      <td>4 Colours</td>\n",
       "      <td>MRP : ₹ 7 295.00</td>\n",
       "    </tr>\n",
       "    <tr>\n",
       "      <th>16</th>\n",
       "      <td>Nike Revolution 7\\nMen's Road Running Shoes (E...</td>\n",
       "      <td>Men's Road Running Shoes (Extra Wide)</td>\n",
       "      <td>3 Colours</td>\n",
       "      <td>MRP : ₹ 3 695.00</td>\n",
       "    </tr>\n",
       "    <tr>\n",
       "      <th>17</th>\n",
       "      <td>Jumpman MVP\\nMen's Shoes</td>\n",
       "      <td>Men's Shoes</td>\n",
       "      <td>2 Colours</td>\n",
       "      <td>MRP : ₹ 15 295.00</td>\n",
       "    </tr>\n",
       "    <tr>\n",
       "      <th>18</th>\n",
       "      <td>Nike Dunk Low SE\\nWomen's Shoes</td>\n",
       "      <td>Women's Shoes</td>\n",
       "      <td>1 Colour</td>\n",
       "      <td>MRP : ₹ 9 695.00</td>\n",
       "    </tr>\n",
       "    <tr>\n",
       "      <th>19</th>\n",
       "      <td>Nike Air Force 1 '07 Premium\\nWomen's Shoes</td>\n",
       "      <td>Women's Shoes</td>\n",
       "      <td>1 Colour</td>\n",
       "      <td>MRP : ₹ 11 895.00</td>\n",
       "    </tr>\n",
       "    <tr>\n",
       "      <th>20</th>\n",
       "      <td>Nike Air Force 1\\nOlder Kids' Shoes</td>\n",
       "      <td>Older Kids' Shoes</td>\n",
       "      <td>6 Colours</td>\n",
       "      <td>MRP : ₹ 5 995.00</td>\n",
       "    </tr>\n",
       "    <tr>\n",
       "      <th>21</th>\n",
       "      <td>Nike Revolution 6\\nMen's Road Running Shoes</td>\n",
       "      <td>Men's Road Running Shoes</td>\n",
       "      <td>4 Colours</td>\n",
       "      <td>MRP : ₹ 3 695.00</td>\n",
       "    </tr>\n",
       "    <tr>\n",
       "      <th>22</th>\n",
       "      <td>Nike Fly.By Mid 3\\nBasketball Shoes</td>\n",
       "      <td>Basketball Shoes</td>\n",
       "      <td>2 Colours</td>\n",
       "      <td>MRP : ₹ 4 995.00</td>\n",
       "    </tr>\n",
       "    <tr>\n",
       "      <th>23</th>\n",
       "      <td>Nike Court Vision Low\\nMen's Shoes</td>\n",
       "      <td>Men's Shoes</td>\n",
       "      <td>1 Colour</td>\n",
       "      <td>MRP : ₹ 5 695.00</td>\n",
       "    </tr>\n",
       "  </tbody>\n",
       "</table>\n",
       "</div>"
      ],
      "text/plain": [
       "                                           Shoes_Name  \\\n",
       "0                   Nike Air Force 1 '07\\nMen's Shoes   \n",
       "1          Nike Air Force 1 '07 EasyOn\\nWomen's Shoes   \n",
       "2                     Nike Gamma Force\\nWomen's Shoes   \n",
       "3                  Nike Court Vision Low\\nMen's Shoes   \n",
       "4            Nike Dunk Low Retro Premium\\nMen's Shoes   \n",
       "5                        Nike Air Max 90\\nMen's Shoes   \n",
       "6                       Nike Air Max 1\\nWomen's shoes   \n",
       "7                     Nike Dunk Low SE\\nWomen's Shoes   \n",
       "8                       Nike Tech Hera\\nWomen's shoes   \n",
       "9                    Jordan Stadium 90\\nWomen's Shoes   \n",
       "10         Nike Air Force 1 '07 Pro Tech\\nMen's Shoes   \n",
       "11                           Nike Calm\\nWomen's Mules   \n",
       "12                 Nike Air Force 1 '07\\nWomen's Shoe   \n",
       "13                 Air Jordan 1 Low SE\\nWomen's Shoes   \n",
       "14                    Air Jordan 1 Low\\nWomen's Shoes   \n",
       "15                Air Jordan 1 Low\\nOlder Kids' Shoes   \n",
       "16  Nike Revolution 7\\nMen's Road Running Shoes (E...   \n",
       "17                           Jumpman MVP\\nMen's Shoes   \n",
       "18                    Nike Dunk Low SE\\nWomen's Shoes   \n",
       "19        Nike Air Force 1 '07 Premium\\nWomen's Shoes   \n",
       "20                Nike Air Force 1\\nOlder Kids' Shoes   \n",
       "21        Nike Revolution 6\\nMen's Road Running Shoes   \n",
       "22                Nike Fly.By Mid 3\\nBasketball Shoes   \n",
       "23                 Nike Court Vision Low\\nMen's Shoes   \n",
       "\n",
       "                                 Category no_of_colors              price  \n",
       "0                             Men's Shoes    2 Colours   MRP : ₹ 7 495.00  \n",
       "1                           Women's Shoes     1 Colour   MRP : ₹ 9 695.00  \n",
       "2                           Women's Shoes    4 Colours   MRP : ₹ 8 495.00  \n",
       "3                             Men's Shoes     1 Colour   MRP : ₹ 5 695.00  \n",
       "4                             Men's Shoes     1 Colour   MRP : ₹ 9 695.00  \n",
       "5                             Men's Shoes     1 Colour  MRP : ₹ 11 895.00  \n",
       "6                           Women's shoes    5 Colours  MRP : ₹ 12 795.00  \n",
       "7                           Women's Shoes     1 Colour   MRP : ₹ 9 695.00  \n",
       "8                           Women's shoes    5 Colours   MRP : ₹ 9 695.00  \n",
       "9                           Women's Shoes    3 Colours  MRP : ₹ 12 795.00  \n",
       "10                            Men's Shoes    3 Colours  MRP : ₹ 13 995.00  \n",
       "11                          Women's Mules    3 Colours   MRP : ₹ 5 695.00  \n",
       "12                           Women's Shoe    5 Colours   MRP : ₹ 8 195.00  \n",
       "13                          Women's Shoes    2 Colours  MRP : ₹ 10 295.00  \n",
       "14                          Women's Shoes    3 Colours   MRP : ₹ 8 295.00  \n",
       "15                      Older Kids' Shoes    4 Colours   MRP : ₹ 7 295.00  \n",
       "16  Men's Road Running Shoes (Extra Wide)    3 Colours   MRP : ₹ 3 695.00  \n",
       "17                            Men's Shoes    2 Colours  MRP : ₹ 15 295.00  \n",
       "18                          Women's Shoes     1 Colour   MRP : ₹ 9 695.00  \n",
       "19                          Women's Shoes     1 Colour  MRP : ₹ 11 895.00  \n",
       "20                      Older Kids' Shoes    6 Colours   MRP : ₹ 5 995.00  \n",
       "21               Men's Road Running Shoes    4 Colours   MRP : ₹ 3 695.00  \n",
       "22                       Basketball Shoes    2 Colours   MRP : ₹ 4 995.00  \n",
       "23                            Men's Shoes     1 Colour   MRP : ₹ 5 695.00  "
      ]
     },
     "execution_count": 12,
     "metadata": {},
     "output_type": "execute_result"
    }
   ],
   "source": [
    "df=pd.DataFrame({'Shoes_Name':Shoes_Name,'Category':Category,'no_of_colors':no_of_colors,'price':price})\n",
    "df"
   ]
  },
  {
   "cell_type": "code",
   "execution_count": 31,
   "id": "f02912a7",
   "metadata": {},
   "outputs": [],
   "source": [
    "count_of_sizes=[]\n",
    "colors1=[]\n",
    "colors2=[]\n",
    "colors3=[]\n",
    "colors4=[]\n",
    "colors5=[]\n",
    "style_code=[]"
   ]
  },
  {
   "cell_type": "code",
   "execution_count": 37,
   "id": "19a13137",
   "metadata": {},
   "outputs": [],
   "source": [
    "driver.find_element(By.XPATH,'//div[@class=\"product-card__body\"]').click()\n",
    "time.sleep(3)\n",
    "\n",
    "try:\n",
    "    for i in driver.find_elements(By.XPATH,'//labe[@class=\"css-xf3ahq\"]'):\n",
    "        count_of_sizes.append(i.text)\n",
    "except NoSuchElementException:\n",
    "    count_of_sizes.append('-')\n",
    "    \n",
    "try:\n",
    "    for i in driver.find_elements(By.XPATH,'//li[@class=\"description-preview__color-description ncss-li\"]'):\n",
    "        colors1.append(i.text)\n",
    "except NoSuchElementException:\n",
    "    colors1.append('-')\n",
    "    \n",
    "try:\n",
    "    for i in driver.find_elements(By.XPATH,'//li[@class=\"description-preview__style-color ncss-li\"]'):\n",
    "        style_code.append(i.text)\n",
    "except NoSuchElementException:\n",
    "    style_code.append('-')\n",
    "    "
   ]
  },
  {
   "cell_type": "code",
   "execution_count": 38,
   "id": "62a4fa0c",
   "metadata": {},
   "outputs": [
    {
     "name": "stdout",
     "output_type": "stream",
     "text": [
      "0 2 0 0 0 0 2\n"
     ]
    }
   ],
   "source": [
    "print(len(count_of_sizes),len(colors1),len(colors2),len(colors3),len(colors4),len(colors5),len(style_code))"
   ]
  },
  {
   "cell_type": "code",
   "execution_count": 5,
   "id": "cc65df69",
   "metadata": {},
   "outputs": [],
   "source": [
    "driver.get(\"https://www.adidas.com\")"
   ]
  },
  {
   "cell_type": "code",
   "execution_count": 6,
   "id": "b0476920",
   "metadata": {},
   "outputs": [],
   "source": [
    "footwear=driver.find_element(By.XPATH,'/html/body/div[1]/div[2]/div[15]/div/footer/ul[2]/li[1]/ul/li[1]/a')\n",
    "footwear.click()"
   ]
  },
  {
   "cell_type": "code",
   "execution_count": 7,
   "id": "ea89bc13",
   "metadata": {},
   "outputs": [],
   "source": [
    "Shoes_Name=[]\n",
    "Category=[]\n",
    "no_of_colors=[]\n",
    "price=[]"
   ]
  },
  {
   "cell_type": "code",
   "execution_count": null,
   "id": "069763be",
   "metadata": {},
   "outputs": [],
   "source": [
    "try:\n",
    "    for i in driver.find_elements(By.XPATH,'//div[@class=\"product-card__titles\"]'):\n",
    "        Shoes_Name.append(i.text)\n",
    "except NoSuchElementException:\n",
    "    Shoes_Name.append('-')\n",
    "    \n",
    "try:\n",
    "    for i in driver.find_elements(By.XPATH,'//div[@class=\"product-card__subtitle\"]'):\n",
    "        Category.append(i.text)\n",
    "except NoSuchElementException:\n",
    "    Category.append('-')\n",
    "    \n",
    "try:\n",
    "    for i in driver.find_elements(By.XPATH,'//div[@class=\"product-card__count-wrapper show--all false\"]'):\n",
    "        no_of_colors.append(i.text)\n",
    "except NoSuchElementException:\n",
    "    no_of_colors.append('-')\n",
    "    \n",
    "try:\n",
    "    for i in driver.find_elements(By.XPATH,'//div[@class=\"product-card__price\"]'):\n",
    "        price.append(i.text)\n",
    "except NoSuchElementException:\n",
    "    price.append('-')"
   ]
  },
  {
   "cell_type": "code",
   "execution_count": null,
   "id": "4257702d",
   "metadata": {},
   "outputs": [],
   "source": [
    "driver.get(\"https://us.puma.com/us/en\")"
   ]
  },
  {
   "cell_type": "code",
   "execution_count": null,
   "id": "180f8c35",
   "metadata": {},
   "outputs": [],
   "source": [
    "shoes=driver.find_element(By.XPATH,'/html/body/div[4]/div/div/div[2]/div[10]/div/div/div/div/div[2]/ul/li[1]/a')\n",
    "shoes.click()"
   ]
  },
  {
   "cell_type": "code",
   "execution_count": null,
   "id": "4fbc7e40",
   "metadata": {},
   "outputs": [],
   "source": [
    "Shoes_Name=[]\n",
    "Category=[]\n",
    "no_of_colors=[]\n",
    "price=[]"
   ]
  },
  {
   "cell_type": "code",
   "execution_count": null,
   "id": "9654efee",
   "metadata": {},
   "outputs": [],
   "source": [
    "try:\n",
    "    for i in driver.find_elements(By.XPATH,'//div[@class=\"product-card__titles\"]'):\n",
    "        Shoes_Name.append(i.text)\n",
    "except NoSuchElementException:\n",
    "    Shoes_Name.append('-')\n",
    "    \n",
    "try:\n",
    "    for i in driver.find_elements(By.XPATH,'//div[@class=\"product-card__subtitle\"]'):\n",
    "        Category.append(i.text)\n",
    "except NoSuchElementException:\n",
    "    Category.append('-')\n",
    "    \n",
    "try:\n",
    "    for i in driver.find_elements(By.XPATH,'//div[@class=\"product-card__count-wrapper show--all false\"]'):\n",
    "        no_of_colors.append(i.text)\n",
    "except NoSuchElementException:\n",
    "    no_of_colors.append('-')\n",
    "    \n",
    "try:\n",
    "    for i in driver.find_elements(By.XPATH,'//div[@class=\"product-card__price\"]'):\n",
    "        price.append(i.text)\n",
    "except NoSuchElementException:\n",
    "    price.append('-')"
   ]
  },
  {
   "cell_type": "code",
   "execution_count": null,
   "id": "e2e1c1a7",
   "metadata": {},
   "outputs": [],
   "source": [
    "driver.get(\"https://www.skechers.com\")"
   ]
  },
  {
   "cell_type": "code",
   "execution_count": null,
   "id": "f405c22e",
   "metadata": {},
   "outputs": [],
   "source": [
    "footwear=driver.find_element(By.XPATH,'/html/body/div[1]/div[2]/div[15]/div/footer/ul[2]/li[1]/ul/li[1]/a')\n",
    "footwear.click()"
   ]
  },
  {
   "cell_type": "code",
   "execution_count": null,
   "id": "74f682ec",
   "metadata": {},
   "outputs": [],
   "source": [
    "Shoes_Name=[]\n",
    "Category=[]\n",
    "no_of_colors=[]\n",
    "price=[]"
   ]
  },
  {
   "cell_type": "code",
   "execution_count": null,
   "id": "a8a71138",
   "metadata": {},
   "outputs": [],
   "source": [
    "try:\n",
    "    for i in driver.find_elements(By.XPATH,'//div[@class=\"product-card__titles\"]'):\n",
    "        Shoes_Name.append(i.text)\n",
    "except NoSuchElementException:\n",
    "    Shoes_Name.append('-')\n",
    "    \n",
    "try:\n",
    "    for i in driver.find_elements(By.XPATH,'//div[@class=\"product-card__subtitle\"]'):\n",
    "        Category.append(i.text)\n",
    "except NoSuchElementException:\n",
    "    Category.append('-')\n",
    "    \n",
    "try:\n",
    "    for i in driver.find_elements(By.XPATH,'//div[@class=\"product-card__count-wrapper show--all false\"]'):\n",
    "        no_of_colors.append(i.text)\n",
    "except NoSuchElementException:\n",
    "    no_of_colors.append('-')\n",
    "    \n",
    "try:\n",
    "    for i in driver.find_elements(By.XPATH,'//div[@class=\"product-card__price\"]'):\n",
    "        price.append(i.text)\n",
    "except NoSuchElementException:\n",
    "    price.append('-')"
   ]
  },
  {
   "cell_type": "code",
   "execution_count": null,
   "id": "fc1137b5",
   "metadata": {},
   "outputs": [],
   "source": [
    "driver.get(\"https://www.columbia.com/\")"
   ]
  },
  {
   "cell_type": "code",
   "execution_count": null,
   "id": "f4d9a692",
   "metadata": {},
   "outputs": [],
   "source": [
    "footwear=driver.find_element(By.XPATH,'/html/body/div[1]/div[2]/div[15]/div/footer/ul[2]/li[1]/ul/li[1]/a')\n",
    "footwear.click()"
   ]
  },
  {
   "cell_type": "code",
   "execution_count": null,
   "id": "8b0e3e71",
   "metadata": {},
   "outputs": [],
   "source": [
    "Shoes_Name=[]\n",
    "Category=[]\n",
    "no_of_colors=[]\n",
    "price=[]"
   ]
  },
  {
   "cell_type": "code",
   "execution_count": null,
   "id": "8815230d",
   "metadata": {},
   "outputs": [],
   "source": [
    "try:\n",
    "    for i in driver.find_elements(By.XPATH,'//div[@class=\"product-card__titles\"]'):\n",
    "        Shoes_Name.append(i.text)\n",
    "except NoSuchElementException:\n",
    "    Shoes_Name.append('-')\n",
    "    \n",
    "try:\n",
    "    for i in driver.find_elements(By.XPATH,'//div[@class=\"product-card__subtitle\"]'):\n",
    "        Category.append(i.text)\n",
    "except NoSuchElementException:\n",
    "    Category.append('-')\n",
    "    \n",
    "try:\n",
    "    for i in driver.find_elements(By.XPATH,'//div[@class=\"product-card__count-wrapper show--all false\"]'):\n",
    "        no_of_colors.append(i.text)\n",
    "except NoSuchElementException:\n",
    "    no_of_colors.append('-')\n",
    "    \n",
    "try:\n",
    "    for i in driver.find_elements(By.XPATH,'//div[@class=\"product-card__price\"]'):\n",
    "        price.append(i.text)\n",
    "except NoSuchElementException:\n",
    "    price.append('-')"
   ]
  },
  {
   "cell_type": "code",
   "execution_count": null,
   "id": "25bae560",
   "metadata": {},
   "outputs": [],
   "source": [
    "driver.get(\"https://www.woodlandworldwide.com/\")"
   ]
  },
  {
   "cell_type": "code",
   "execution_count": null,
   "id": "05b70071",
   "metadata": {},
   "outputs": [],
   "source": [
    "footwear=driver.find_element(By.XPATH,'/html/body/div[1]/div[2]/div[15]/div/footer/ul[2]/li[1]/ul/li[1]/a')\n",
    "footwear.click()"
   ]
  },
  {
   "cell_type": "code",
   "execution_count": null,
   "id": "f4564118",
   "metadata": {},
   "outputs": [],
   "source": [
    "Shoes_Name=[]\n",
    "Category=[]\n",
    "no_of_colors=[]\n",
    "price=[]"
   ]
  },
  {
   "cell_type": "code",
   "execution_count": null,
   "id": "6e5d94a6",
   "metadata": {},
   "outputs": [],
   "source": [
    "try:\n",
    "    for i in driver.find_elements(By.XPATH,'//div[@class=\"product-card__titles\"]'):\n",
    "        Shoes_Name.append(i.text)\n",
    "except NoSuchElementException:\n",
    "    Shoes_Name.append('-')\n",
    "    \n",
    "try:\n",
    "    for i in driver.find_elements(By.XPATH,'//div[@class=\"product-card__subtitle\"]'):\n",
    "        Category.append(i.text)\n",
    "except NoSuchElementException:\n",
    "    Category.append('-')\n",
    "    \n",
    "try:\n",
    "    for i in driver.find_elements(By.XPATH,'//div[@class=\"product-card__count-wrapper show--all false\"]'):\n",
    "        no_of_colors.append(i.text)\n",
    "except NoSuchElementException:\n",
    "    no_of_colors.append('-')\n",
    "    \n",
    "try:\n",
    "    for i in driver.find_elements(By.XPATH,'//div[@class=\"product-card__price\"]'):\n",
    "        price.append(i.text)\n",
    "except NoSuchElementException:\n",
    "    price.append('-')"
   ]
  }
 ],
 "metadata": {
  "kernelspec": {
   "display_name": "Python 3 (ipykernel)",
   "language": "python",
   "name": "python3"
  },
  "language_info": {
   "codemirror_mode": {
    "name": "ipython",
    "version": 3
   },
   "file_extension": ".py",
   "mimetype": "text/x-python",
   "name": "python",
   "nbconvert_exporter": "python",
   "pygments_lexer": "ipython3",
   "version": "3.9.16"
  }
 },
 "nbformat": 4,
 "nbformat_minor": 5
}
