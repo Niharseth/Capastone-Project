{
 "cells": [
  {
   "cell_type": "code",
   "execution_count": 1,
   "id": "80646b32",
   "metadata": {},
   "outputs": [],
   "source": [
    "import pandas as pd\n",
    "import numpy as np\n",
    "import seaborn as sns\n",
    "import matplotlib.pyplot as plt\n",
    "import warnings\n",
    "warnings.filterwarnings('ignore')"
   ]
  },
  {
   "cell_type": "code",
   "execution_count": null,
   "id": "e7a53592",
   "metadata": {},
   "outputs": [],
   "source": [
    "df=pd.read_csv(r'C:\\Users\\Cape-Mumbai\\Downloads\\raw.githubusercontent.com_dsrscientist_Data-Science-ML-Capstone-Projects_master_baseball.csv')\n",
    "df"
   ]
  },
  {
   "cell_type": "markdown",
   "id": "3bfd6608",
   "metadata": {},
   "source": [
    "# Exploratory Data Analysis (EDA)"
   ]
  },
  {
   "cell_type": "code",
   "execution_count": null,
   "id": "d0768505",
   "metadata": {},
   "outputs": [],
   "source": [
    "df.shape"
   ]
  },
  {
   "cell_type": "code",
   "execution_count": null,
   "id": "93c29a81",
   "metadata": {},
   "outputs": [],
   "source": [
    "df.columns"
   ]
  },
  {
   "cell_type": "code",
   "execution_count": null,
   "id": "196e11f9",
   "metadata": {},
   "outputs": [],
   "source": [
    "df.columns.tolist()"
   ]
  },
  {
   "cell_type": "code",
   "execution_count": null,
   "id": "864fa422",
   "metadata": {},
   "outputs": [],
   "source": [
    "# Checking the null values\n",
    "df.isnull().sum()"
   ]
  },
  {
   "cell_type": "code",
   "execution_count": null,
   "id": "1f4d4220",
   "metadata": {},
   "outputs": [],
   "source": [
    "df.isnull().sum().sum()"
   ]
  },
  {
   "cell_type": "code",
   "execution_count": null,
   "id": "6a6b412c",
   "metadata": {},
   "outputs": [],
   "source": [
    "df.info()"
   ]
  },
  {
   "cell_type": "code",
   "execution_count": null,
   "id": "3f6db1d1",
   "metadata": {},
   "outputs": [],
   "source": [
    "# Visualize using Heatmap\n",
    "sns.heatmap(df.isnull())"
   ]
  },
  {
   "cell_type": "code",
   "execution_count": null,
   "id": "7b02921b",
   "metadata": {},
   "outputs": [],
   "source": [
    "#Checking the value counts of each column\n",
    "for i in df.columns:\n",
    "    print(df[i].value_counts())\n",
    "    print(\"\\n\")"
   ]
  },
  {
   "cell_type": "code",
   "execution_count": null,
   "id": "305e6749",
   "metadata": {},
   "outputs": [],
   "source": [
    "df.describe()"
   ]
  },
  {
   "cell_type": "markdown",
   "id": "b34c4906",
   "metadata": {},
   "source": [
    "Data Visualization"
   ]
  },
  {
   "cell_type": "code",
   "execution_count": null,
   "id": "c5a1c2d0",
   "metadata": {},
   "outputs": [],
   "source": [
    "ax=sns.countplot(x='W',data=df)\n",
    "print(df['W'].value_counts())"
   ]
  },
  {
   "cell_type": "code",
   "execution_count": null,
   "id": "eb1e38e9",
   "metadata": {},
   "outputs": [],
   "source": [
    "#Let's check the data has been distributed in each column\n",
    "plt.figure(figsize=(20,25), facecolor='white')\n",
    "plotnumber = 1\n",
    "\n",
    "for column in df:\n",
    "    if plotnumber<=18:\n",
    "        ax = plt.subplot(6,4,plotnumber)\n",
    "        sns.distplot(df[column],color='m')\n",
    "        plt.xlabel(column,fontsize=20)\n",
    "    plotnumber+=1\n",
    "plt.show()"
   ]
  },
  {
   "cell_type": "code",
   "execution_count": null,
   "id": "aec44525",
   "metadata": {},
   "outputs": [],
   "source": [
    "X_train, X_test, Y_train, Y_test = train_test_split(X, Y, test_size=0.30, random_state=4)"
   ]
  },
  {
   "cell_type": "code",
   "execution_count": null,
   "id": "bb2319b2",
   "metadata": {},
   "outputs": [],
   "source": [
    "from sklearn.linear_model import LinearRegression\n",
    "from sklearn.ensemble import RandomForestRegressor\n",
    "from sklearn.tree import DecisionTreeRegressor\n",
    "from sklearn.neighbors import KNeighborsRegressor as KNN\n",
    "from sklearn.linear_model import Lasso,Ridge"
   ]
  },
  {
   "cell_type": "code",
   "execution_count": 2,
   "id": "30f48b3d",
   "metadata": {},
   "outputs": [],
   "source": [
    "from sklearn.model_selection import train_test_split\n",
    "from sklearn.metrics import mean_absolute_error\n",
    "from sklearn.metrics import mean_squared_error\n",
    "from sklearn.metrics import r2_score\n",
    "from sklearn.metrics import accuracy_score\n",
    "from sklearn.ensemble import GradientBoostingRegressor"
   ]
  },
  {
   "cell_type": "code",
   "execution_count": null,
   "id": "46cc61a6",
   "metadata": {},
   "outputs": [],
   "source": [
    "# finding the best Random State\n",
    "maxAccu=0\n",
    "maxRS=0\n",
    "for i in range(1,200):\n",
    "    X_train,X_test,Y_train,Y_test = train_test_split(X,Y,test_size=.30, random_state=i)\n",
    "    GBR=GradientBoostingRegressor()\n",
    "    GBR.fit(X_train, Y_train)\n",
    "    pred = GBR.predict(X_test)\n",
    "    acc=r2_score(Y_test, pred)\n",
    "    if acc>maxAccu:\n",
    "        maxAccu=acc\n",
    "        maxRS=i\n",
    "print(\"Maximum r2 score is \",maxAccu,\" on Random_state \",maxRS)"
   ]
  },
  {
   "cell_type": "code",
   "execution_count": null,
   "id": "a0931e41",
   "metadata": {},
   "outputs": [],
   "source": [
    "LR = LinearRegression()\n",
    "LR.fit(X_train,Y_train)\n",
    "pred=LR.predict(X_test)\n",
    "print('R2_score:',r2_score(Y_test,pred))\n",
    "print('Mean Absolute Error:-',mean_absolute_error(Y_test, pred))\n",
    "print('Mean Squared Error:-',mean_squared_error(Y_test, pred))\n",
    "print(\"Root Mean Squared Error:-\",np.sqrt(mean_squared_error(Y_test, pred)))"
   ]
  },
  {
   "cell_type": "code",
   "execution_count": null,
   "id": "03cbb38c",
   "metadata": {},
   "outputs": [],
   "source": [
    "RFR=RandomForestRegressor()\n",
    "RFR.fit(X_train,Y_train)\n",
    "pred=RFR.predict(X_test)\n",
    "print('R2_score:',r2_score(Y_test,pred))\n",
    "print('Mean Absolute Error:-',mean_absolute_error(Y_test, pred))\n",
    "print('Mean Squared Error:-',mean_squared_error(Y_test, pred))\n",
    "print(\"Root Mean Squared Error:-\",np.sqrt(mean_squared_error(Y_test, pred)))"
   ]
  },
  {
   "cell_type": "code",
   "execution_count": null,
   "id": "62500847",
   "metadata": {},
   "outputs": [],
   "source": [
    "knn=KNN()\n",
    "knn.fit(X_train,Y_train)\n",
    "pred=knn.predict(X_test)\n",
    "print('R2_score:',r2_score(Y_test,pred))\n",
    "print('Mean Absolute Error:-',mean_absolute_error(Y_test, pred))\n",
    "print('Mean Squared Error:-',mean_squared_error(Y_test, pred))\n",
    "print(\"Root Mean Squared Error:-\",np.sqrt(mean_squared_error(Y_test, pred)))"
   ]
  },
  {
   "cell_type": "code",
   "execution_count": 3,
   "id": "c3c4deba",
   "metadata": {},
   "outputs": [],
   "source": [
    "from sklearn.model_selection import cross_val_score"
   ]
  },
  {
   "cell_type": "code",
   "execution_count": null,
   "id": "ae153446",
   "metadata": {},
   "outputs": [],
   "source": [
    "#Linear Regression CVS\n",
    "print(cross_val_score(LR,X,Y,cv=5).mean())\n",
    "#Random Forest Regression CVS\n",
    "print(cross_val_score(RFR,X,Y,cv=5).mean())\n",
    "#GradientBoosting Regression\n",
    "print(cross_val_score(GBR,X,Y,cv=5).mean())\n",
    "#KNN \n",
    "print(cross_val_score(knn,X,Y,cv=5).mean())\n",
    "#Ridge\n",
    "print(cross_val_score(rd,X,Y,cv=5).mean())\n",
    "#Lasso\n",
    "print(cross_val_score(lasso,X,Y,cv=5).mean())"
   ]
  },
  {
   "cell_type": "code",
   "execution_count": null,
   "id": "5486a6e0",
   "metadata": {},
   "outputs": [],
   "source": [
    "svc_param = {'kernel' : ['poly', 'sigmoid', 'rbf'],\n",
    "             'gamma' : ['scale', 'auto'],\n",
    "             'shrinking' : [True, False],\n",
    "             'random_state' : [21,42,104],\n",
    "             'probability' : [True, False],\n",
    "             'decision_function_shape' : ['ovo', 'ovr'],\n",
    "             'verbose' : [True, False]}"
   ]
  },
  {
   "cell_type": "code",
   "execution_count": null,
   "id": "8ef70431",
   "metadata": {},
   "outputs": [],
   "source": [
    "GSCV = GridSearchCV(SVC(), svc_param, cv=2)"
   ]
  },
  {
   "cell_type": "code",
   "execution_count": null,
   "id": "f6abc2cc",
   "metadata": {},
   "outputs": [],
   "source": [
    "GSCV.fit(X_train,Y_train)"
   ]
  },
  {
   "cell_type": "code",
   "execution_count": null,
   "id": "4375dca3",
   "metadata": {},
   "outputs": [],
   "source": [
    "GSCV.best_params_"
   ]
  },
  {
   "cell_type": "code",
   "execution_count": null,
   "id": "1a3728c6",
   "metadata": {},
   "outputs": [],
   "source": [
    "Model=Ridge(alpha= 2,fit_intercept= True,positive= False,random_state= 1,solver= 'auto')"
   ]
  }
 ],
 "metadata": {
  "kernelspec": {
   "display_name": "Python 3 (ipykernel)",
   "language": "python",
   "name": "python3"
  },
  "language_info": {
   "codemirror_mode": {
    "name": "ipython",
    "version": 3
   },
   "file_extension": ".py",
   "mimetype": "text/x-python",
   "name": "python",
   "nbconvert_exporter": "python",
   "pygments_lexer": "ipython3",
   "version": "3.9.16"
  }
 },
 "nbformat": 4,
 "nbformat_minor": 5
}
