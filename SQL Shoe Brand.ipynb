{
 "cells": [
  {
   "cell_type": "code",
   "execution_count": null,
   "id": "255dd510",
   "metadata": {},
   "outputs": [],
   "source": [
    "SELECT ShoeName, Price\n",
    "FROM Table1\n",
    "WHERE Category = 'Men';"
   ]
  },
  {
   "cell_type": "code",
   "execution_count": null,
   "id": "dde823db",
   "metadata": {},
   "outputs": [],
   "source": [
    "SELECT Category, COUNT(DISTINCT No_of_Colors) AS Color_Count\n",
    "FROM Table1\n",
    "GROUP BY Category;"
   ]
  },
  {
   "cell_type": "code",
   "execution_count": null,
   "id": "41b02df3",
   "metadata": {},
   "outputs": [],
   "source": [
    "SELECT *\n",
    "FROM Table1\n",
    "WHERE Category = 'Men'\n",
    "ORDER BY Price DESC\n",
    "LIMIT 1;"
   ]
  },
  {
   "cell_type": "code",
   "execution_count": null,
   "id": "ad903338",
   "metadata": {},
   "outputs": [],
   "source": [
    "SELECT *\n",
    "FROM Table1\n",
    "WHERE Category = 'Women' AND No_of_Colors = 'Black'\n",
    "ORDER BY Price\n",
    "LIMIT 1;"
   ]
  },
  {
   "cell_type": "code",
   "execution_count": null,
   "id": "cb1eb69b",
   "metadata": {},
   "outputs": [],
   "source": [
    "SELECT ShoeName, Price\n",
    "FROM Table1\n",
    "WHERE Category = 'Men';"
   ]
  },
  {
   "cell_type": "markdown",
   "id": "237c1f7d",
   "metadata": {},
   "source": [
    "Table 2"
   ]
  },
  {
   "cell_type": "code",
   "execution_count": null,
   "id": "345ca64b",
   "metadata": {},
   "outputs": [],
   "source": [
    "SELECT Style_Code, COUNT(DISTINCT Size) AS Size_Count\n",
    "FROM Table2\n",
    "GROUP BY Style_Code;"
   ]
  },
  {
   "cell_type": "code",
   "execution_count": null,
   "id": "98f29894",
   "metadata": {},
   "outputs": [],
   "source": [
    "SELECT Style_Code, Colors_1, Colors_2, Colors_3, Colors_4, Colors_5\n",
    "FROM Table2;"
   ]
  },
  {
   "cell_type": "code",
   "execution_count": null,
   "id": "d014b668",
   "metadata": {},
   "outputs": [],
   "source": [
    "SELECT Style_Code\n",
    "FROM Table2\n",
    "WHERE Colors_2 IS NOT NULL;"
   ]
  },
  {
   "cell_type": "code",
   "execution_count": null,
   "id": "611258cb",
   "metadata": {},
   "outputs": [],
   "source": [
    "SELECT Style_Code, Colors_1, COUNT(DISTINCT Size) AS Size_Count\n",
    "FROM Table2\n",
    "GROUP BY Style_Code, Colors_1;"
   ]
  },
  {
   "cell_type": "code",
   "execution_count": null,
   "id": "18b937aa",
   "metadata": {},
   "outputs": [],
   "source": [
    "SELECT Style_Code\n",
    "FROM Table2\n",
    "WHERE Colors_1 = 'Red';"
   ]
  },
  {
   "cell_type": "markdown",
   "id": "2b8adbc3",
   "metadata": {},
   "source": [
    "Table 3"
   ]
  },
  {
   "cell_type": "code",
   "execution_count": null,
   "id": "8fee1125",
   "metadata": {},
   "outputs": [],
   "source": [
    "SELECT AVG(comfort) FROM Table3 WHERE product_id = 'YourProductID';"
   ]
  },
  {
   "cell_type": "code",
   "execution_count": null,
   "id": "5f8b2e84",
   "metadata": {},
   "outputs": [],
   "source": [
    "SELECT * FROM Table3 WHERE star_rating >= 4;"
   ]
  },
  {
   "cell_type": "code",
   "execution_count": null,
   "id": "79343cb6",
   "metadata": {},
   "outputs": [],
   "source": [
    "SELECT product_id, COUNT(*) FROM Table3 GROUP BY product_id;"
   ]
  },
  {
   "cell_type": "code",
   "execution_count": null,
   "id": "47c5d930",
   "metadata": {},
   "outputs": [],
   "source": [
    "SELECT * FROM Table3 WHERE durability > 7;"
   ]
  },
  {
   "cell_type": "code",
   "execution_count": null,
   "id": "543b5385",
   "metadata": {},
   "outputs": [],
   "source": [
    "SELECT Size, AVG(comfort) FROM Table3 GROUP BY Size;"
   ]
  },
  {
   "cell_type": "code",
   "execution_count": null,
   "id": "22b008a2",
   "metadata": {},
   "outputs": [],
   "source": []
  }
 ],
 "metadata": {
  "kernelspec": {
   "display_name": "Python 3 (ipykernel)",
   "language": "python",
   "name": "python3"
  },
  "language_info": {
   "codemirror_mode": {
    "name": "ipython",
    "version": 3
   },
   "file_extension": ".py",
   "mimetype": "text/x-python",
   "name": "python",
   "nbconvert_exporter": "python",
   "pygments_lexer": "ipython3",
   "version": "3.9.16"
  }
 },
 "nbformat": 4,
 "nbformat_minor": 5
}
